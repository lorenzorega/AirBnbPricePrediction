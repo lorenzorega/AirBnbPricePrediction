{
 "cells": [
  {
   "cell_type": "code",
   "execution_count": 1,
   "id": "863ebfd4",
   "metadata": {},
   "outputs": [],
   "source": [
    "from sklearn import feature_selection\n",
    "import numpy as np\n",
    "import pandas as pd\n",
    "import math"
   ]
  },
  {
   "cell_type": "code",
   "execution_count": 2,
   "id": "18b5d7bd",
   "metadata": {},
   "outputs": [
    {
     "name": "stdout",
     "output_type": "stream",
     "text": [
      "(764,)\n",
      "(126,)\n",
      "Index(['host_since', 'host_total_listings_count', 'latitude', 'longitude',\n",
      "       'accommodates', 'bathrooms', 'bedrooms', 'beds', 'security_deposit',\n",
      "       'cleaning_fee',\n",
      "       ...\n",
      "       'Nolita', 'Ridgewood.1', 'SoHo', 'Sunnyside.1', 'Theater District',\n",
      "       'Tribeca', 'Upper East Side', 'Upper West Side', 'Washington Heights',\n",
      "       'West Village'],\n",
      "      dtype='object', length=126)\n",
      "['host_since', 'host_total_listings_count', 'latitude', 'longitude', 'accommodates', 'bathrooms', 'bedrooms', 'beds', 'security_deposit', 'cleaning_fee', 'guests_included', 'extra_people', 'review_scores_rating', 'review_scores_accuracy', 'review_scores_checkin', 'review_scores_communication', 'review_scores_value', 'reviews_per_month', 'Pets_allowed', 'Washer', 'Luggage_dropoff_allowed', 'Smoking_allowed', 'Free_street_parking', '24-hour_check-in', 'Heating', 'Shampoo', 'Cable_TV', 'Wheelchair_accessible', 'Long_term_stays_allowed', 'Laptop_friendly_workspace', 'Dishwasher', 'Suitable_for_events', 'Pack_’n_Play/travel_crib', 'TV', 'Dryer', 'Gym', 'Self_check-in', 'Bathtub', 'High_chair', 'Babysitter_recommendations', 'Host_greets_you', 'Hair_dryer', 'Coffee_maker', 'Lock_on_bedroom_door', 'Oven', 'Building_staff', 'Iron', 'Private_entrance', 'Dishes_and_silverware', 'Family/kid_friendly', 'Internet', 'Carbon_monoxide_detector', 'Pets_live_on_this_property', 'Crib', 'Children’s_books_and_toys', 'Children’s_dinnerware', 'Cat(s)', 'Stove', 'Patio_or_balcony', 'Paid_parking_on_premises', 'Safety_card', 'Indoor_fireplace', 'Fire_extinguisher', 'Elevator', 'Pool', 'Ethernet_connection', 'Kitchen', 'Doorman', 'Buzzer/wireless_intercom', 'Paid_parking_off_premises', 'Cooking_basics', 'Room-darkening_shades', 'Air_conditioning', 'Condominium', 'House', 'Loft', 'Resort', 'Serviced apartment', 'Real Bed', 'Entire home/apt', 'Private room', 'Shared room', 'Bronx', 'Brooklyn', 'Manhattan', 'Queens', 'Bronx.1', 'Brooklyn.1', 'Brooklyn ', 'New York', 'Queens.1', 'flexible', 'moderate', 'strict_14_with_grace_period', 'super_strict_30', 'super_strict_60', 'within a few hours', 'Astoria.1', 'Bedford-Stuyvesant.1', 'Bushwick.1', 'Chelsea', 'Crown Heights', 'East Flatbush', 'East Village', 'Elmhurst.1', 'Financial District', 'Flatbush', 'Flatiron District', 'Flushing.1', 'Gramercy', 'Greenwich Village', 'Harlem.1', \"Hell's Kitchen\", 'Kips Bay.1', 'Midtown', 'Murray Hill', 'Nolita', 'Ridgewood.1', 'SoHo', 'Sunnyside.1', 'Theater District', 'Tribeca', 'Upper East Side', 'Upper West Side', 'Washington Heights', 'West Village']\n",
      "126\n"
     ]
    },
    {
     "name": "stderr",
     "output_type": "stream",
     "text": [
      "C:\\Users\\Lorenzo\\anaconda3\\lib\\site-packages\\sklearn\\utils\\validation.py:993: DataConversionWarning: A column-vector y was passed when a 1d array was expected. Please change the shape of y to (n_samples, ), for example using ravel().\n",
      "  y = column_or_1d(y, warn=True)\n",
      "C:\\Users\\Lorenzo\\anaconda3\\lib\\site-packages\\sklearn\\feature_selection\\_univariate_selection.py:289: RuntimeWarning: invalid value encountered in true_divide\n",
      "  correlation_coefficient /= X_norms\n"
     ]
    }
   ],
   "source": [
    "\n",
    "X_train = pd.read_csv('../Data/data_cleaned_train_comments_X.csv')\n",
    "y_train = pd.read_csv('../Data/data_cleaned_train_y.csv')\n",
    "\n",
    "X_val = pd.read_csv('../Data/data_cleaned_val_comments_X.csv')\n",
    "y_val = pd.read_csv('../Data/data_cleaned_val_y.csv')\n",
    "\n",
    "F_vals, p_vals = feature_selection.f_regression(X_train, y_train)\n",
    "def clean_pvals(entry):\n",
    "    if (math.isnan(entry)):\n",
    "        return 100\n",
    "    else:\n",
    "        return entry\n",
    "clean_pvals_vectorized = np.vectorize(clean_pvals)\n",
    "p_vals = clean_pvals_vectorized(p_vals)\n",
    "print(p_vals.shape)\n",
    "THRESH = 1e-20\n",
    "print(p_vals[p_vals<THRESH].shape)\n",
    "print(X_train.columns[p_vals<THRESH])\n",
    "print(list(X_train.columns[p_vals<THRESH]))\n",
    "print(len(list(X_train.columns[p_vals<THRESH])))\n",
    "np.save('../Data/selected_coefs_pvals.npy', X_train.columns[p_vals<THRESH])"
   ]
  },
  {
   "cell_type": "code",
   "execution_count": null,
   "id": "32d82f05",
   "metadata": {},
   "outputs": [],
   "source": []
  }
 ],
 "metadata": {
  "kernelspec": {
   "display_name": "Python 3 (ipykernel)",
   "language": "python",
   "name": "python3"
  },
  "language_info": {
   "codemirror_mode": {
    "name": "ipython",
    "version": 3
   },
   "file_extension": ".py",
   "mimetype": "text/x-python",
   "name": "python",
   "nbconvert_exporter": "python",
   "pygments_lexer": "ipython3",
   "version": "3.9.12"
  }
 },
 "nbformat": 4,
 "nbformat_minor": 5
}
